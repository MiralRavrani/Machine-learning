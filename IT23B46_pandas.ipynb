{
 "cells": [
  {
   "cell_type": "code",
   "execution_count": 1,
   "id": "66168c1d",
   "metadata": {},
   "outputs": [],
   "source": [
    "import pandas as pd"
   ]
  },
  {
   "cell_type": "code",
   "execution_count": 3,
   "id": "446d8deb",
   "metadata": {},
   "outputs": [
    {
     "name": "stdout",
     "output_type": "stream",
     "text": [
      "1.4.2\n"
     ]
    }
   ],
   "source": [
    "print(pd.__version__)"
   ]
  },
  {
   "cell_type": "code",
   "execution_count": 15,
   "id": "494c4c1e",
   "metadata": {},
   "outputs": [
    {
     "name": "stdout",
     "output_type": "stream",
     "text": [
      "0    1\n",
      "1    2\n",
      "2    4\n",
      "3    5\n",
      "4    7\n",
      "dtype: int64\n"
     ]
    }
   ],
   "source": [
    "a=[1,2,4,5,7]\n",
    "s1=pd.Series(a)\n",
    "print(s1)"
   ]
  },
  {
   "cell_type": "code",
   "execution_count": 9,
   "id": "f8c93b25",
   "metadata": {},
   "outputs": [
    {
     "name": "stdout",
     "output_type": "stream",
     "text": [
      "i1    1\n",
      "i2    2\n",
      "i3    4\n",
      "i4    5\n",
      "i5    7\n",
      "dtype: int64\n"
     ]
    }
   ],
   "source": [
    "a=[1,2,4,5,7]\n",
    "s1=pd.Series(a,index=[\"i1\",\"i2\",\"i3\",\"i4\",\"i5\"])\n",
    "print(s1)"
   ]
  },
  {
   "cell_type": "code",
   "execution_count": 10,
   "id": "33efe5bb",
   "metadata": {},
   "outputs": [
    {
     "name": "stdout",
     "output_type": "stream",
     "text": [
      "4\n"
     ]
    }
   ],
   "source": [
    "print(s1[\"i3\"])"
   ]
  },
  {
   "cell_type": "code",
   "execution_count": 12,
   "id": "50dbe495",
   "metadata": {},
   "outputs": [
    {
     "name": "stdout",
     "output_type": "stream",
     "text": [
      "AIML    4\n",
      "CCN     4\n",
      "WS      3\n",
      "CS      4\n",
      "dtype: int64\n"
     ]
    }
   ],
   "source": [
    "keyVal={\"AIML\":4,\"CCN\":4,\"WS\":3,\"CS\":4}\n",
    "sKeyVal=pd.Series(keyVal)\n",
    "print(sKeyVal)"
   ]
  },
  {
   "cell_type": "code",
   "execution_count": 20,
   "id": "146c88cc",
   "metadata": {},
   "outputs": [
    {
     "data": {
      "text/html": [
       "<div>\n",
       "<style scoped>\n",
       "    .dataframe tbody tr th:only-of-type {\n",
       "        vertical-align: middle;\n",
       "    }\n",
       "\n",
       "    .dataframe tbody tr th {\n",
       "        vertical-align: top;\n",
       "    }\n",
       "\n",
       "    .dataframe thead th {\n",
       "        text-align: right;\n",
       "    }\n",
       "</style>\n",
       "<table border=\"1\" class=\"dataframe\">\n",
       "  <thead>\n",
       "    <tr style=\"text-align: right;\">\n",
       "      <th></th>\n",
       "      <th>subject</th>\n",
       "      <th>marks</th>\n",
       "    </tr>\n",
       "  </thead>\n",
       "  <tbody>\n",
       "    <tr>\n",
       "      <th>0</th>\n",
       "      <td>aiml</td>\n",
       "      <td>90</td>\n",
       "    </tr>\n",
       "    <tr>\n",
       "      <th>1</th>\n",
       "      <td>ccn</td>\n",
       "      <td>82</td>\n",
       "    </tr>\n",
       "    <tr>\n",
       "      <th>2</th>\n",
       "      <td>ws</td>\n",
       "      <td>75</td>\n",
       "    </tr>\n",
       "    <tr>\n",
       "      <th>3</th>\n",
       "      <td>cs</td>\n",
       "      <td>99</td>\n",
       "    </tr>\n",
       "  </tbody>\n",
       "</table>\n",
       "</div>"
      ],
      "text/plain": [
       "  subject  marks\n",
       "0    aiml     90\n",
       "1     ccn     82\n",
       "2      ws     75\n",
       "3      cs     99"
      ]
     },
     "execution_count": 20,
     "metadata": {},
     "output_type": "execute_result"
    }
   ],
   "source": [
    "student={\"subject\":[\"aiml\",\"ccn\",\"ws\",\"cs\"],\n",
    "        \"marks\":[90,82,75,99]}\n",
    "dfStud=pd.DataFrame(student)\n",
    "dfStud"
   ]
  },
  {
   "cell_type": "code",
   "execution_count": 23,
   "id": "12cbc158",
   "metadata": {},
   "outputs": [
    {
     "name": "stdout",
     "output_type": "stream",
     "text": [
      "subject    aiml\n",
      "marks        90\n",
      "Name: 0, dtype: object\n"
     ]
    }
   ],
   "source": [
    "print(dfStud.loc[0]) #loc=locatin,to featch single row"
   ]
  },
  {
   "cell_type": "code",
   "execution_count": 65,
   "id": "3a869e3b",
   "metadata": {},
   "outputs": [
    {
     "data": {
      "text/html": [
       "<div>\n",
       "<style scoped>\n",
       "    .dataframe tbody tr th:only-of-type {\n",
       "        vertical-align: middle;\n",
       "    }\n",
       "\n",
       "    .dataframe tbody tr th {\n",
       "        vertical-align: top;\n",
       "    }\n",
       "\n",
       "    .dataframe thead th {\n",
       "        text-align: right;\n",
       "    }\n",
       "</style>\n",
       "<table border=\"1\" class=\"dataframe\">\n",
       "  <thead>\n",
       "    <tr style=\"text-align: right;\">\n",
       "      <th></th>\n",
       "      <th>Sr No.</th>\n",
       "      <th>Name</th>\n",
       "      <th>BOD</th>\n",
       "      <th>Course</th>\n",
       "      <th>Percentage</th>\n",
       "      <th>Percent</th>\n",
       "    </tr>\n",
       "  </thead>\n",
       "  <tbody>\n",
       "    <tr>\n",
       "      <th>0</th>\n",
       "      <td>1</td>\n",
       "      <td>Krishi</td>\n",
       "      <td>20/12/02</td>\n",
       "      <td>MscIt</td>\n",
       "      <td>63.00%</td>\n",
       "      <td>61</td>\n",
       "    </tr>\n",
       "    <tr>\n",
       "      <th>1</th>\n",
       "      <td>2</td>\n",
       "      <td>Vaishu</td>\n",
       "      <td>07/01/01</td>\n",
       "      <td>MscIt</td>\n",
       "      <td>58.00%</td>\n",
       "      <td>71</td>\n",
       "    </tr>\n",
       "    <tr>\n",
       "      <th>2</th>\n",
       "      <td>3</td>\n",
       "      <td>Arti</td>\n",
       "      <td>06/02/02</td>\n",
       "      <td>MscIt</td>\n",
       "      <td>52.00%</td>\n",
       "      <td>81</td>\n",
       "    </tr>\n",
       "    <tr>\n",
       "      <th>3</th>\n",
       "      <td>4</td>\n",
       "      <td>Vidhi</td>\n",
       "      <td>04/03/01</td>\n",
       "      <td>MscIt</td>\n",
       "      <td>68.00%</td>\n",
       "      <td>69</td>\n",
       "    </tr>\n",
       "    <tr>\n",
       "      <th>4</th>\n",
       "      <td>5</td>\n",
       "      <td>Trusha</td>\n",
       "      <td>17/01/01</td>\n",
       "      <td>MscIt</td>\n",
       "      <td>78.00%</td>\n",
       "      <td>85</td>\n",
       "    </tr>\n",
       "    <tr>\n",
       "      <th>5</th>\n",
       "      <td>6</td>\n",
       "      <td>Rishika</td>\n",
       "      <td>26/11/00</td>\n",
       "      <td>NaN</td>\n",
       "      <td>88.00%</td>\n",
       "      <td>58</td>\n",
       "    </tr>\n",
       "  </tbody>\n",
       "</table>\n",
       "</div>"
      ],
      "text/plain": [
       "   Sr No.     Name       BOD Course Percentage  Percent\n",
       "0       1   Krishi  20/12/02  MscIt     63.00%       61\n",
       "1       2   Vaishu  07/01/01  MscIt     58.00%       71\n",
       "2       3     Arti  06/02/02  MscIt     52.00%       81\n",
       "3       4    Vidhi  04/03/01  MscIt     68.00%       69\n",
       "4       5   Trusha  17/01/01  MscIt     78.00%       85\n",
       "5       6  Rishika  26/11/00    NaN     88.00%       58"
      ]
     },
     "execution_count": 65,
     "metadata": {},
     "output_type": "execute_result"
    }
   ],
   "source": [
    "student=pd.read_csv('b_v/data.csv') #to get infromation from csv file\n",
    "student"
   ]
  },
  {
   "cell_type": "code",
   "execution_count": 66,
   "id": "7d31ad1f",
   "metadata": {},
   "outputs": [
    {
     "name": "stdout",
     "output_type": "stream",
     "text": [
      "   Sr No.    Name       BOD Course Percentage  Percent\n",
      "0       1  Krishi  20/12/02  MscIt     63.00%       61\n",
      "1       2  Vaishu  07/01/01  MscIt     58.00%       71\n",
      "2       3    Arti  06/02/02  MscIt     52.00%       81\n",
      "3       4   Vidhi  04/03/01  MscIt     68.00%       69\n",
      "4       5  Trusha  17/01/01  MscIt     78.00%       85\n"
     ]
    }
   ],
   "source": [
    "print(student.head()) # (head) first 5 row data"
   ]
  },
  {
   "cell_type": "code",
   "execution_count": 67,
   "id": "f792ffd7",
   "metadata": {},
   "outputs": [
    {
     "name": "stdout",
     "output_type": "stream",
     "text": [
      "   Sr No.     Name       BOD Course Percentage  Percent\n",
      "1       2   Vaishu  07/01/01  MscIt     58.00%       71\n",
      "2       3     Arti  06/02/02  MscIt     52.00%       81\n",
      "3       4    Vidhi  04/03/01  MscIt     68.00%       69\n",
      "4       5   Trusha  17/01/01  MscIt     78.00%       85\n",
      "5       6  Rishika  26/11/00    NaN     88.00%       58\n"
     ]
    }
   ],
   "source": [
    "print(student.tail()) #(tail) last 5 row data"
   ]
  },
  {
   "cell_type": "code",
   "execution_count": 68,
   "id": "e961340a",
   "metadata": {},
   "outputs": [
    {
     "name": "stdout",
     "output_type": "stream",
     "text": [
      "<class 'pandas.core.frame.DataFrame'>\n",
      "RangeIndex: 6 entries, 0 to 5\n",
      "Data columns (total 6 columns):\n",
      " #   Column      Non-Null Count  Dtype \n",
      "---  ------      --------------  ----- \n",
      " 0   Sr No.      6 non-null      int64 \n",
      " 1   Name        6 non-null      object\n",
      " 2   BOD         6 non-null      object\n",
      " 3   Course      5 non-null      object\n",
      " 4   Percentage  6 non-null      object\n",
      " 5   Percent     6 non-null      int64 \n",
      "dtypes: int64(2), object(4)\n",
      "memory usage: 416.0+ bytes\n",
      "None\n"
     ]
    }
   ],
   "source": [
    "print(student.info()) # show all the information such as datatype,null and not null."
   ]
  },
  {
   "cell_type": "code",
   "execution_count": 69,
   "id": "1f0c7fba",
   "metadata": {},
   "outputs": [
    {
     "name": "stdout",
     "output_type": "stream",
     "text": [
      "   Sr No.    Name       BOD Course Percentage  Percent\n",
      "0       1  Krishi  20/12/02  MscIt     63.00%       61\n",
      "1       2  Vaishu  07/01/01  MscIt     58.00%       71\n",
      "2       3    Arti  06/02/02  MscIt     52.00%       81\n",
      "3       4   Vidhi  04/03/01  MscIt     68.00%       69\n",
      "4       5  Trusha  17/01/01  MscIt     78.00%       85\n"
     ]
    }
   ],
   "source": [
    "newstudent=student.dropna() # drop rows with null value\n",
    "print(newstudent)"
   ]
  },
  {
   "cell_type": "code",
   "execution_count": 70,
   "id": "60a5c19a",
   "metadata": {},
   "outputs": [
    {
     "name": "stdout",
     "output_type": "stream",
     "text": [
      "   Sr No.     Name       BOD Course Percentage  Percent\n",
      "0       1   Krishi  20/12/02  MscIt     63.00%       61\n",
      "1       2   Vaishu  07/01/01  MscIt     58.00%       71\n",
      "2       3     Arti  06/02/02  MscIt     52.00%       81\n",
      "3       4    Vidhi  04/03/01  MscIt     68.00%       69\n",
      "4       5   Trusha  17/01/01  MscIt     78.00%       85\n",
      "5       6  Rishika  26/11/00     30     88.00%       58\n"
     ]
    }
   ],
   "source": [
    "filledStud=student.fillna(30) # fill the value of null\n",
    "print(filledStud)"
   ]
  },
  {
   "cell_type": "code",
   "execution_count": 71,
   "id": "df13a15a",
   "metadata": {},
   "outputs": [
    {
     "data": {
      "text/plain": [
       "0    MscIt\n",
       "1    MscIt\n",
       "2    MscIt\n",
       "3    MscIt\n",
       "4    MscIt\n",
       "5      MCA\n",
       "Name: Course, dtype: object"
      ]
     },
     "execution_count": 71,
     "metadata": {},
     "output_type": "execute_result"
    }
   ],
   "source": [
    "new=student[\"Course\"].fillna(\"MCA\") \n",
    "new\n",
    "#it will fill the place where course is empty"
   ]
  },
  {
   "cell_type": "code",
   "execution_count": 72,
   "id": "590066aa",
   "metadata": {},
   "outputs": [
    {
     "data": {
      "text/html": [
       "<div>\n",
       "<style scoped>\n",
       "    .dataframe tbody tr th:only-of-type {\n",
       "        vertical-align: middle;\n",
       "    }\n",
       "\n",
       "    .dataframe tbody tr th {\n",
       "        vertical-align: top;\n",
       "    }\n",
       "\n",
       "    .dataframe thead th {\n",
       "        text-align: right;\n",
       "    }\n",
       "</style>\n",
       "<table border=\"1\" class=\"dataframe\">\n",
       "  <thead>\n",
       "    <tr style=\"text-align: right;\">\n",
       "      <th></th>\n",
       "      <th>Sr No.</th>\n",
       "      <th>Name</th>\n",
       "      <th>BOD</th>\n",
       "      <th>Course</th>\n",
       "      <th>Percentage</th>\n",
       "      <th>Percent</th>\n",
       "    </tr>\n",
       "  </thead>\n",
       "  <tbody>\n",
       "    <tr>\n",
       "      <th>0</th>\n",
       "      <td>1</td>\n",
       "      <td>Krishi</td>\n",
       "      <td>20/12/02</td>\n",
       "      <td>MscIt</td>\n",
       "      <td>63.00%</td>\n",
       "      <td>61</td>\n",
       "    </tr>\n",
       "    <tr>\n",
       "      <th>1</th>\n",
       "      <td>2</td>\n",
       "      <td>Vaishu</td>\n",
       "      <td>07/01/01</td>\n",
       "      <td>MscIt</td>\n",
       "      <td>58.00%</td>\n",
       "      <td>71</td>\n",
       "    </tr>\n",
       "    <tr>\n",
       "      <th>2</th>\n",
       "      <td>3</td>\n",
       "      <td>Arti</td>\n",
       "      <td>06/02/02</td>\n",
       "      <td>MscIt</td>\n",
       "      <td>52.00%</td>\n",
       "      <td>81</td>\n",
       "    </tr>\n",
       "    <tr>\n",
       "      <th>3</th>\n",
       "      <td>4</td>\n",
       "      <td>Vidhi</td>\n",
       "      <td>04/03/01</td>\n",
       "      <td>MscIt</td>\n",
       "      <td>68.00%</td>\n",
       "      <td>69</td>\n",
       "    </tr>\n",
       "    <tr>\n",
       "      <th>4</th>\n",
       "      <td>5</td>\n",
       "      <td>Trusha</td>\n",
       "      <td>17/01/01</td>\n",
       "      <td>MscIt</td>\n",
       "      <td>78.00%</td>\n",
       "      <td>85</td>\n",
       "    </tr>\n",
       "    <tr>\n",
       "      <th>5</th>\n",
       "      <td>6</td>\n",
       "      <td>Rishika</td>\n",
       "      <td>26/11/00</td>\n",
       "      <td>MCA</td>\n",
       "      <td>88.00%</td>\n",
       "      <td>58</td>\n",
       "    </tr>\n",
       "  </tbody>\n",
       "</table>\n",
       "</div>"
      ],
      "text/plain": [
       "   Sr No.     Name       BOD Course Percentage  Percent\n",
       "0       1   Krishi  20/12/02  MscIt     63.00%       61\n",
       "1       2   Vaishu  07/01/01  MscIt     58.00%       71\n",
       "2       3     Arti  06/02/02  MscIt     52.00%       81\n",
       "3       4    Vidhi  04/03/01  MscIt     68.00%       69\n",
       "4       5   Trusha  17/01/01  MscIt     78.00%       85\n",
       "5       6  Rishika  26/11/00    MCA     88.00%       58"
      ]
     },
     "execution_count": 72,
     "metadata": {},
     "output_type": "execute_result"
    }
   ],
   "source": [
    "student[\"Course\"].fillna(\"MCA\",inplace=True) \n",
    "student\n",
    "# to store data in specified row of table"
   ]
  },
  {
   "cell_type": "code",
   "execution_count": 80,
   "id": "ea84f8cf",
   "metadata": {},
   "outputs": [
    {
     "data": {
      "text/html": [
       "<div>\n",
       "<style scoped>\n",
       "    .dataframe tbody tr th:only-of-type {\n",
       "        vertical-align: middle;\n",
       "    }\n",
       "\n",
       "    .dataframe tbody tr th {\n",
       "        vertical-align: top;\n",
       "    }\n",
       "\n",
       "    .dataframe thead th {\n",
       "        text-align: right;\n",
       "    }\n",
       "</style>\n",
       "<table border=\"1\" class=\"dataframe\">\n",
       "  <thead>\n",
       "    <tr style=\"text-align: right;\">\n",
       "      <th></th>\n",
       "      <th>Sr No.</th>\n",
       "      <th>Name</th>\n",
       "      <th>BOD</th>\n",
       "      <th>Course</th>\n",
       "      <th>Percentage</th>\n",
       "      <th>Percent</th>\n",
       "    </tr>\n",
       "  </thead>\n",
       "  <tbody>\n",
       "    <tr>\n",
       "      <th>0</th>\n",
       "      <td>1</td>\n",
       "      <td>Krishi</td>\n",
       "      <td>20/12/02</td>\n",
       "      <td>MscIt</td>\n",
       "      <td>63.00%</td>\n",
       "      <td>61</td>\n",
       "    </tr>\n",
       "    <tr>\n",
       "      <th>1</th>\n",
       "      <td>2</td>\n",
       "      <td>Vaishu</td>\n",
       "      <td>07/01/01</td>\n",
       "      <td>MscIt</td>\n",
       "      <td>58.00%</td>\n",
       "      <td>71</td>\n",
       "    </tr>\n",
       "    <tr>\n",
       "      <th>2</th>\n",
       "      <td>3</td>\n",
       "      <td>Arti</td>\n",
       "      <td>06/02/02</td>\n",
       "      <td>MscIt</td>\n",
       "      <td>52.00%</td>\n",
       "      <td>81</td>\n",
       "    </tr>\n",
       "    <tr>\n",
       "      <th>3</th>\n",
       "      <td>4</td>\n",
       "      <td>Vidhi</td>\n",
       "      <td>04/03/01</td>\n",
       "      <td>MscIt</td>\n",
       "      <td>68.00%</td>\n",
       "      <td>69</td>\n",
       "    </tr>\n",
       "    <tr>\n",
       "      <th>4</th>\n",
       "      <td>5</td>\n",
       "      <td>Trusha</td>\n",
       "      <td>17/01/01</td>\n",
       "      <td>MscIt</td>\n",
       "      <td>78.00%</td>\n",
       "      <td>85</td>\n",
       "    </tr>\n",
       "    <tr>\n",
       "      <th>5</th>\n",
       "      <td>6</td>\n",
       "      <td>Rishika</td>\n",
       "      <td>26/11/00</td>\n",
       "      <td>MCA</td>\n",
       "      <td>88.00%</td>\n",
       "      <td>58</td>\n",
       "    </tr>\n",
       "  </tbody>\n",
       "</table>\n",
       "</div>"
      ],
      "text/plain": [
       "   Sr No.     Name       BOD Course Percentage  Percent\n",
       "0       1   Krishi  20/12/02  MscIt     63.00%       61\n",
       "1       2   Vaishu  07/01/01  MscIt     58.00%       71\n",
       "2       3     Arti  06/02/02  MscIt     52.00%       81\n",
       "3       4    Vidhi  04/03/01  MscIt     68.00%       69\n",
       "4       5   Trusha  17/01/01  MscIt     78.00%       85\n",
       "5       6  Rishika  26/11/00    MCA     88.00%       58"
      ]
     },
     "execution_count": 80,
     "metadata": {},
     "output_type": "execute_result"
    }
   ],
   "source": [
    "student[\"Percentage\"].fillna(55,inplace=True) \n",
    "student"
   ]
  },
  {
   "cell_type": "code",
   "execution_count": 78,
   "id": "4cb98aa2",
   "metadata": {},
   "outputs": [
    {
     "name": "stdout",
     "output_type": "stream",
     "text": [
      "mean:70.83333333333333\n"
     ]
    }
   ],
   "source": [
    "mean=student[\"Percent\"].mean()\n",
    "print(f\"mean:{mean}\")"
   ]
  },
  {
   "cell_type": "code",
   "execution_count": 75,
   "id": "92b4d790",
   "metadata": {},
   "outputs": [
    {
     "name": "stdout",
     "output_type": "stream",
     "text": [
      "mode: 58\n"
     ]
    }
   ],
   "source": [
    "mode=student[\"Percent\"].mode()\n",
    "print(\"mode:\",mode[0])"
   ]
  },
  {
   "cell_type": "code",
   "execution_count": 76,
   "id": "b5a26359",
   "metadata": {},
   "outputs": [
    {
     "name": "stdout",
     "output_type": "stream",
     "text": [
      "median: 70.0\n"
     ]
    }
   ],
   "source": [
    "median=student[\"Percent\"].median()\n",
    "print(\"median:\",median)\n",
    "\n"
   ]
  },
  {
   "cell_type": "code",
   "execution_count": null,
   "id": "cf771d2e",
   "metadata": {},
   "outputs": [],
   "source": []
  }
 ],
 "metadata": {
  "kernelspec": {
   "display_name": "Python 3 (ipykernel)",
   "language": "python",
   "name": "python3"
  },
  "language_info": {
   "codemirror_mode": {
    "name": "ipython",
    "version": 3
   },
   "file_extension": ".py",
   "mimetype": "text/x-python",
   "name": "python",
   "nbconvert_exporter": "python",
   "pygments_lexer": "ipython3",
   "version": "3.11.5"
  }
 },
 "nbformat": 4,
 "nbformat_minor": 5
}
