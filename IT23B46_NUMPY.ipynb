{
 "cells": [
  {
   "cell_type": "code",
   "execution_count": 1,
   "id": "9dc1bdad",
   "metadata": {},
   "outputs": [
    {
     "name": "stdout",
     "output_type": "stream",
     "text": [
      "Hello World\n"
     ]
    }
   ],
   "source": [
    "print(\"Hello World\")"
   ]
  },
  {
   "cell_type": "code",
   "execution_count": 1,
   "id": "2ba0511d",
   "metadata": {
    "scrolled": true
   },
   "outputs": [
    {
     "name": "stdout",
     "output_type": "stream",
     "text": [
      "Hello\n"
     ]
    }
   ],
   "source": [
    "print(\"Hello\")\n"
   ]
  },
  {
   "cell_type": "code",
   "execution_count": 3,
   "id": "0cfb8b7b",
   "metadata": {},
   "outputs": [
    {
     "name": "stdout",
     "output_type": "stream",
     "text": [
      "Welcome to machine learning python\n"
     ]
    }
   ],
   "source": [
    "print(\"Welcome to machine learning python\")"
   ]
  },
  {
   "cell_type": "code",
   "execution_count": 3,
   "id": "c0a8235d",
   "metadata": {},
   "outputs": [],
   "source": [
    "import numpy as np"
   ]
  },
  {
   "cell_type": "code",
   "execution_count": 4,
   "id": "97aefd25",
   "metadata": {},
   "outputs": [
    {
     "data": {
      "text/plain": [
       "[1, 2, 3, 4]"
      ]
     },
     "execution_count": 4,
     "metadata": {},
     "output_type": "execute_result"
    }
   ],
   "source": [
    "[1,2,3,4]"
   ]
  },
  {
   "cell_type": "code",
   "execution_count": 5,
   "id": "8226489b",
   "metadata": {},
   "outputs": [
    {
     "name": "stdout",
     "output_type": "stream",
     "text": [
      "[1 2 3 4]\n"
     ]
    }
   ],
   "source": [
    "a=np.array([1,2,3,4])    #print array with library numpy\n",
    "print(a)"
   ]
  },
  {
   "cell_type": "code",
   "execution_count": 6,
   "id": "6f475969",
   "metadata": {},
   "outputs": [
    {
     "name": "stdout",
     "output_type": "stream",
     "text": [
      "array a: [1 2 3 4]\n",
      "array:[1 2 3 4]\n",
      "array a:[1 2 3 4]\n"
     ]
    }
   ],
   "source": [
    "print(\"array a:\",a)\n",
    "print(f\"array:{a}\")\n",
    "print(\"array a:{}\".format(a))"
   ]
  },
  {
   "cell_type": "code",
   "execution_count": 7,
   "id": "fff6db36",
   "metadata": {},
   "outputs": [
    {
     "name": "stdout",
     "output_type": "stream",
     "text": [
      "ndin:1\n",
      "size:4\n",
      "shape:(4,)\n",
      "dtype:int64\n",
      "itemsize:8\n"
     ]
    }
   ],
   "source": [
    "print(f\"ndin:{a.ndim}\")\n",
    "print(f\"size:{a.size}\") # show size\n",
    "print(f\"shape:{a.shape}\") # shape\n",
    "print(f\"dtype:{a.dtype}\") #datatypes\n",
    "print(f\"itemsize:{a.itemsize}\")#how many items in array"
   ]
  },
  {
   "cell_type": "code",
   "execution_count": 8,
   "id": "c385a8b1",
   "metadata": {},
   "outputs": [
    {
     "name": "stdout",
     "output_type": "stream",
     "text": [
      "[[1 2 3]\n",
      " [4 5 6]]\n"
     ]
    }
   ],
   "source": [
    "b=np.array([[1,2,3],[4,5,6]]) \n",
    "print(b)"
   ]
  },
  {
   "cell_type": "code",
   "execution_count": 9,
   "id": "a7c977f7",
   "metadata": {},
   "outputs": [
    {
     "name": "stdout",
     "output_type": "stream",
     "text": [
      "[ 5  7  9 11]\n"
     ]
    }
   ],
   "source": [
    "b=np.array([4,5,6,7])\n",
    "c=np.add(a,b) #addition of array\n",
    "print(c)"
   ]
  },
  {
   "cell_type": "code",
   "execution_count": 10,
   "id": "5f352bea",
   "metadata": {},
   "outputs": [
    {
     "name": "stdout",
     "output_type": "stream",
     "text": [
      "[-3 -3 -3 -3]\n"
     ]
    }
   ],
   "source": [
    "b=np.array([4,5,6,7])\n",
    "d=np.subtract(a,b) #substract\n",
    "print(d)"
   ]
  },
  {
   "cell_type": "code",
   "execution_count": 11,
   "id": "4caea60e",
   "metadata": {
    "scrolled": true
   },
   "outputs": [
    {
     "name": "stdout",
     "output_type": "stream",
     "text": [
      "[[ 2  4  6  8]\n",
      " [ 5  7  9 11]]\n"
     ]
    }
   ],
   "source": [
    "b=np.array([[1,2,3,4],[4,5,6,7]])\n",
    "d=np.add(a,b) \n",
    "print(d)"
   ]
  },
  {
   "cell_type": "code",
   "execution_count": 12,
   "id": "e10732df",
   "metadata": {},
   "outputs": [
    {
     "name": "stdout",
     "output_type": "stream",
     "text": [
      "[[ 0  0  0  0]\n",
      " [-3 -3 -3 -3]]\n"
     ]
    }
   ],
   "source": [
    "b=np.array([[1,2,3,4],[4,5,6,7]])\n",
    "d=np.subtract(a,b)\n",
    "print(d)"
   ]
  },
  {
   "cell_type": "code",
   "execution_count": 13,
   "id": "63d39fc3",
   "metadata": {},
   "outputs": [
    {
     "name": "stdout",
     "output_type": "stream",
     "text": [
      "[[1.         1.         1.         1.        ]\n",
      " [0.25       0.4        0.5        0.57142857]]\n"
     ]
    }
   ],
   "source": [
    "b=np.array([[1,2,3,4],[4,5,6,7]])\n",
    "d=np.divide(a,b) #division\n",
    "print(d)"
   ]
  },
  {
   "cell_type": "code",
   "execution_count": 14,
   "id": "ceb84327",
   "metadata": {},
   "outputs": [
    {
     "name": "stdout",
     "output_type": "stream",
     "text": [
      "[[ 1  4  9 16]\n",
      " [ 4 10 18 28]]\n"
     ]
    }
   ],
   "source": [
    "b=np.array([[1,2,3,4],[4,5,6,7]])\n",
    "d=np.multiply(a,b) #multiplication\n",
    "print(d)"
   ]
  },
  {
   "cell_type": "code",
   "execution_count": 15,
   "id": "2d9565b8",
   "metadata": {},
   "outputs": [
    {
     "name": "stdout",
     "output_type": "stream",
     "text": [
      "[[0 0 0 0]\n",
      " [1 2 3 4]]\n"
     ]
    }
   ],
   "source": [
    "b=np.array([[1,2,3,4],[4,5,6,7]])\n",
    "d=np.mod(a,b) #module or reminder\n",
    "print(d)"
   ]
  },
  {
   "cell_type": "code",
   "execution_count": 16,
   "id": "21fe671c",
   "metadata": {},
   "outputs": [
    {
     "name": "stdout",
     "output_type": "stream",
     "text": [
      "[[    1     4    27   256]\n",
      " [    1    32   729 16384]]\n"
     ]
    }
   ],
   "source": [
    "b=np.array([[1,2,3,4],[4,5,6,7]])\n",
    "d=np.power(a,b) #power \n",
    "print(d)"
   ]
  },
  {
   "cell_type": "code",
   "execution_count": 17,
   "id": "e4c2855b",
   "metadata": {},
   "outputs": [
    {
     "name": "stdout",
     "output_type": "stream",
     "text": [
      "[[1 2 3 4]\n",
      " [1 2 3 4]]\n"
     ]
    }
   ],
   "source": [
    "b=np.array([[1,2,3,4],[4,5,6,7]])\n",
    "d=np.abs(a,b) #absolute value\n",
    "print(d)"
   ]
  },
  {
   "cell_type": "code",
   "execution_count": 18,
   "id": "9e2539a4",
   "metadata": {},
   "outputs": [
    {
     "name": "stdout",
     "output_type": "stream",
     "text": [
      "[[0 0 0 0]\n",
      " [1 2 3 4]]\n"
     ]
    }
   ],
   "source": [
    "b=np.array([[1,2,3,4],[4,5,6,7]])\n",
    "d=np.remainder(a,b)\n",
    "print(d)"
   ]
  },
  {
   "cell_type": "code",
   "execution_count": 19,
   "id": "269064f0",
   "metadata": {},
   "outputs": [
    {
     "name": "stdout",
     "output_type": "stream",
     "text": [
      "['utsav' 'vishv' 'digu' 'bhavdip']\n",
      "size:4\n",
      "shape:(4,)\n",
      "dtype:int64\n",
      "itemsize:8\n"
     ]
    }
   ],
   "source": [
    "s=np.array([\"utsav\",\"vishv\",\"digu\",\"bhavdip\"])\n",
    "print(s)\n",
    "print(f\"size:{a.size}\")\n",
    "print(f\"shape:{a.shape}\")\n",
    "print(f\"dtype:{a.dtype}\")\n",
    "print(f\"itemsize:{a.itemsize}\")"
   ]
  },
  {
   "cell_type": "code",
   "execution_count": 64,
   "id": "298bdd3f",
   "metadata": {},
   "outputs": [
    {
     "name": "stdout",
     "output_type": "stream",
     "text": [
      "[[0. 0. 0.]\n",
      " [0. 0. 0.]]\n"
     ]
    }
   ],
   "source": [
    "z=np.zeros((2,3)) #used to create an array with zeros\n",
    "print(z)"
   ]
  },
  {
   "cell_type": "code",
   "execution_count": 65,
   "id": "6464e9c0",
   "metadata": {},
   "outputs": [
    {
     "name": "stdout",
     "output_type": "stream",
     "text": [
      "[[1. 1. 1.]\n",
      " [1. 1. 1.]\n",
      " [1. 1. 1.]]\n"
     ]
    }
   ],
   "source": [
    "one=np.ones((3,3))  #used to create a new array of given shape and type filled with ones\n",
    "print(one)"
   ]
  },
  {
   "cell_type": "code",
   "execution_count": 67,
   "id": "45c76cb1",
   "metadata": {},
   "outputs": [
    {
     "name": "stdout",
     "output_type": "stream",
     "text": [
      "[[6.9063836e-310 6.9063836e-310]\n",
      " [6.9063836e-310 6.9063836e-310]]\n"
     ]
    }
   ],
   "source": [
    "empty=np.empty((2,2)) #used to return new array of given shape and type\n",
    "print(empty)"
   ]
  },
  {
   "cell_type": "code",
   "execution_count": 74,
   "id": "9e4ebf00",
   "metadata": {},
   "outputs": [
    {
     "name": "stdout",
     "output_type": "stream",
     "text": [
      "[1.  1.5 2.  2.5 3.  3.5 4.  4.5]\n"
     ]
    }
   ],
   "source": [
    "ar=np.arange(1,5,0.5) #return an array with evenly spaced elements as per the interval                   \n",
    "print(ar)"
   ]
  },
  {
   "cell_type": "code",
   "execution_count": 81,
   "id": "d9797936",
   "metadata": {},
   "outputs": [
    {
     "name": "stdout",
     "output_type": "stream",
     "text": [
      "[1.         1.57142857 2.14285714 2.71428571 3.28571429 3.85714286\n",
      " 4.42857143 5.        ]\n"
     ]
    }
   ],
   "source": [
    "l=np.linspace(1,5,8) #space between the specified interval\n",
    "print(l)"
   ]
  },
  {
   "cell_type": "code",
   "execution_count": 83,
   "id": "a6389c79",
   "metadata": {},
   "outputs": [
    {
     "name": "stdout",
     "output_type": "stream",
     "text": [
      "[[0.59659405 0.55048859 0.46857933]\n",
      " [0.40515285 0.9876724  0.466082  ]]\n"
     ]
    }
   ],
   "source": [
    "r=np.random.random((2,3)) #returns a random float number between 0 and 1\n",
    "print(r)"
   ]
  }
 ],
 "metadata": {
  "kernelspec": {
   "display_name": "Python 3 (ipykernel)",
   "language": "python",
   "name": "python3"
  },
  "language_info": {
   "codemirror_mode": {
    "name": "ipython",
    "version": 3
   },
   "file_extension": ".py",
   "mimetype": "text/x-python",
   "name": "python",
   "nbconvert_exporter": "python",
   "pygments_lexer": "ipython3",
   "version": "3.11.5"
  }
 },
 "nbformat": 4,
 "nbformat_minor": 5
}
